{
 "cells": [
  {
   "cell_type": "code",
   "execution_count": 12,
   "metadata": {},
   "outputs": [
    {
     "name": "stdout",
     "output_type": "stream",
     "text": [
      "\n",
      "Epoch 00001: val_loss improved from inf to 0.15426, saving model to ./mnist_model/01-0.1543.hdf5\n",
      "\n",
      "Epoch 00002: val_loss improved from 0.15426 to 0.10403, saving model to ./mnist_model/02-0.1040.hdf5\n",
      "\n",
      "Epoch 00003: val_loss improved from 0.10403 to 0.08497, saving model to ./mnist_model/03-0.0850.hdf5\n",
      "\n",
      "Epoch 00004: val_loss improved from 0.08497 to 0.07697, saving model to ./mnist_model/04-0.0770.hdf5\n",
      "\n",
      "Epoch 00005: val_loss improved from 0.07697 to 0.06854, saving model to ./mnist_model/05-0.0685.hdf5\n",
      "\n",
      "Epoch 00006: val_loss improved from 0.06854 to 0.06091, saving model to ./mnist_model/06-0.0609.hdf5\n",
      "\n",
      "Epoch 00007: val_loss did not improve from 0.06091\n",
      "\n",
      "Epoch 00008: val_loss improved from 0.06091 to 0.05849, saving model to ./mnist_model/08-0.0585.hdf5\n",
      "\n",
      "Epoch 00009: val_loss improved from 0.05849 to 0.05745, saving model to ./mnist_model/09-0.0575.hdf5\n",
      "\n",
      "Epoch 00010: val_loss did not improve from 0.05745\n",
      "\n",
      "Epoch 00011: val_loss did not improve from 0.05745\n",
      "\n",
      "Epoch 00012: val_loss did not improve from 0.05745\n",
      "\n",
      "Epoch 00013: val_loss did not improve from 0.05745\n",
      "\n",
      "Epoch 00014: val_loss did not improve from 0.05745\n",
      "\n",
      "Epoch 00015: val_loss did not improve from 0.05745\n",
      "\n",
      "Epoch 00016: val_loss did not improve from 0.05745\n",
      "\n",
      "Epoch 00017: val_loss did not improve from 0.05745\n",
      "\n",
      "Epoch 00018: val_loss did not improve from 0.05745\n",
      "\n",
      "Epoch 00019: val_loss did not improve from 0.05745\n",
      "10000/10000 [==============================] - 1s 61us/step\n",
      "\n",
      " Test Accuracy: 0.9837\n"
     ]
    }
   ],
   "source": [
    "from keras.datasets import mnist\n",
    "from keras.utils import np_utils\n",
    "from keras.models import Sequential\n",
    "from keras.layers import Dense\n",
    "from keras.callbacks import ModelCheckpoint, EarlyStopping\n",
    "\n",
    "import matplotlib.pyplot as plt\n",
    "import numpy as np\n",
    "import os\n",
    "import tensorflow as tf\n",
    "\n",
    "seed = 0\n",
    "np.random.seed(seed)\n",
    "tf.random.set_seed(3)\n",
    "\n",
    "(X_train, Y_train), (X_test, Y_test) = mnist.load_data()\n",
    "\n",
    "X_train = X_train.reshape(X_train.shape[0], 784).astype('float32')/255\n",
    "X_test = X_test.reshape(X_test.shape[0], 784).astype('float32')/255\n",
    "\n",
    "Y_train = np_utils.to_categorical(Y_train, 10)\n",
    "Y_test = np_utils.to_categorical(Y_test, 10)\n",
    "\n",
    "model = Sequential()\n",
    "model.add(Dense(512, input_dim = 784, activation = 'relu'))\n",
    "model.add(Dense(10, activation = 'softmax'))\n",
    "\n",
    "model.compile(loss = 'categorical_crossentropy', optimizer = 'adam', metrics = ['accuracy'])\n",
    "\n",
    "MODEL_DIR = './mnist_model/'\n",
    "if not os.path.exists(MODEL_DIR):\n",
    "    os.mkdir(MODEL_DIR)\n",
    "    \n",
    "modelpath = \"./mnist_model/{epoch:02d}-{val_loss:.4f}.hdf5\"\n",
    "checkpointer = ModelCheckpoint(filepath = modelpath, monitor = 'val_loss', verbose = 1, save_best_only = True)\n",
    "early_stopping_callback = EarlyStopping(monitor = 'val_loss', patience = 10)\n",
    "\n",
    "history = model.fit(X_train, Y_train, validation_data = (X_test, Y_test), epochs = 30, batch_size = 200, verbose = 0,\n",
    "                    callbacks = [early_stopping_callback, checkpointer])\n",
    "\n",
    "print(\"\\n Test Accuracy: %.4f\" % (model.evaluate(X_test, Y_test)[1]))"
   ]
  },
  {
   "cell_type": "code",
   "execution_count": 13,
   "metadata": {},
   "outputs": [
    {
     "data": {
      "image/png": "[encoded data removed]",
      "text/plain": [
       "<Figure size 432x288 with 1 Axes>"
      ]
     },
     "metadata": {
      "needs_background": "light"
     },
     "output_type": "display_data"
    }
   ],
   "source": [
    "Y_vloss = history.history['val_loss']\n",
    "Y_loss = history.history['loss']\n",
    "\n",
    "X_len = np.arange(len(Y_loss))\n",
    "plt.plot(X_len, Y_vloss, marker = '.', c = \"red\", label = 'Testset_loss')\n",
    "plt.plot(X_len, Y_loss, marker = '.', c = \"blue\", label = 'Trainset_loss')\n",
    "\n",
    "plt.legend(loc = 'upper right')\n",
    "plt.grid()\n",
    "plt.xlabel('epoch')\n",
    "plt.ylabel('loss')\n",
    "plt.show()"
   ]
  },
  {
   "cell_type": "code",
   "execution_count": null,
   "metadata": {},
   "outputs": [],
   "source": []
  },
  {
   "cell_type": "code",
   "execution_count": null,
   "metadata": {},
   "outputs": [],
   "source": []
  }
 ],
 "metadata": {
  "kernelspec": {
   "display_name": "Python 3",
   "language": "python",
   "name": "python3"
  },
  "language_info": {
   "codemirror_mode": {
    "name": "ipython",
    "version": 3
   },
   "file_extension": ".py",
   "mimetype": "text/x-python",
   "name": "python",
   "nbconvert_exporter": "python",
   "pygments_lexer": "ipython3",
   "version": "3.7.4"
  }
 },
 "nbformat": 4,
 "nbformat_minor": 2
}
