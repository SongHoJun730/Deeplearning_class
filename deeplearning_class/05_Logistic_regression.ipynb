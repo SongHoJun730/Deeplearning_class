{
 "cells": [
  {
   "cell_type": "code",
   "execution_count": 5,
   "metadata": {},
   "outputs": [
    {
     "name": "stdout",
     "output_type": "stream",
     "text": [
      "epoch=0, weight=-0.5996, bias=0.2105\n",
      "epoch=0, weight=-0.6197, bias=0.2055\n",
      "epoch=0, weight=-0.6284, bias=0.2040\n",
      "epoch=0, weight=-0.2316, bias=0.2536\n",
      "epoch=0, weight=0.2120, bias=0.2980\n",
      "epoch=0, weight=0.2450, bias=0.3007\n",
      "epoch=0, weight=0.2614, bias=0.3019\n",
      "epoch=1000, weight=1.4949, bias=-9.9180\n",
      "epoch=1000, weight=1.4910, bias=-9.9189\n",
      "epoch=1000, weight=1.4087, bias=-9.9327\n",
      "epoch=1000, weight=1.4919, bias=-9.9223\n",
      "epoch=1000, weight=1.4953, bias=-9.9219\n",
      "epoch=1000, weight=1.4955, bias=-9.9219\n",
      "epoch=1000, weight=1.4955, bias=-9.9219\n",
      "epoch=2000, weight=1.9047, bias=-12.9357\n",
      "epoch=2000, weight=1.9037, bias=-12.9359\n",
      "epoch=2000, weight=1.8496, bias=-12.9449\n",
      "epoch=2000, weight=1.9038, bias=-12.9381\n",
      "epoch=2000, weight=1.9050, bias=-12.9380\n",
      "epoch=2000, weight=1.9050, bias=-12.9380\n",
      "epoch=2000, weight=1.9050, bias=-12.9380\n"
     ]
    },
    {
     "data": {
      "image/png": "[encoded data removed]",
      "text/plain": [
       "<Figure size 432x288 with 1 Axes>"
      ]
     },
     "metadata": {
      "needs_background": "light"
     },
     "output_type": "display_data"
    }
   ],
   "source": [
    "import numpy as np\n",
    "import pandas as pd\n",
    "import matplotlib.pyplot as plt\n",
    "\n",
    "data = [[2,0],[4,0],[6,0],[8,1],[10,1],[12,1],[14,1]]\n",
    "\n",
    "x_data = [i[0] for i in data]\n",
    "y_data = [i[1] for i in data]\n",
    "\n",
    "plt.scatter(x_data,y_data)\n",
    "plt.xlim(0,15)\n",
    "plt.ylim(-.1,1.1)\n",
    "\n",
    "a=np.random.normal(size = 1)\n",
    "b=np.random.normal(size = 1)\n",
    "\n",
    "rate = 0.05\n",
    "\n",
    "def sigmoid(x):\n",
    "    return 1/(1+np.e **(-x))\n",
    "\n",
    "for i in range(2001):\n",
    "    for x_data,y_data in data:\n",
    "        a_diff = x_data*(sigmoid(a*x_data + b)- y_data)\n",
    "        b_diff = sigmoid(a*x_data + b) - y_data\n",
    "        a = a - rate * a_diff\n",
    "        b = b - rate * b_diff\n",
    "        if i % 1000 == 0:\n",
    "            print(\"epoch=%.f, weight=%.04f, bias=%.04f\"%(i, a, b))\n",
    "plt.scatter(x_data,y_data)\n",
    "plt.xlim(0,15)\n",
    "plt.ylim(-.1,1.1)\n",
    "x_range = (np.arange(0,15,0.1))\n",
    "plt.plot(np.arange(0,15,0.1),np.array([sigmoid(a*x+b) for x in x_range]))\n",
    "plt.show()"
   ]
  },
  {
   "cell_type": "code",
   "execution_count": null,
   "metadata": {},
   "outputs": [],
   "source": []
  }
 ],
 "metadata": {
  "kernelspec": {
   "display_name": "Python 3",
   "language": "python",
   "name": "python3"
  },
  "language_info": {
   "codemirror_mode": {
    "name": "ipython",
    "version": 3
   },
   "file_extension": ".py",
   "mimetype": "text/x-python",
   "name": "python",
   "nbconvert_exporter": "python",
   "pygments_lexer": "ipython3",
   "version": "3.7.4"
  }
 },
 "nbformat": 4,
 "nbformat_minor": 2
}
